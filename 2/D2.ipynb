{
 "cells": [
  {
   "cell_type": "code",
   "execution_count": null,
   "metadata": {},
   "outputs": [],
   "source": [
    "# PART 1\n",
    "d = 0 \n",
    "w = 0 \n",
    "\n",
    "for x in open(\"input.txt\", \"r\"):\n",
    "    if( \"forward\" in x):\n",
    "        w = w + int(x.split(' ')[1])\n",
    "    elif(\"up\" in x):\n",
    "        d = d - int(x.split(' ')[1])\n",
    "    elif(\"down\" in x):\n",
    "        d = d + int(x.split(' ')[1])\n",
    "print(d*w)"
   ]
  },
  {
   "cell_type": "code",
   "execution_count": null,
   "metadata": {},
   "outputs": [],
   "source": [
    "# PART 2\n",
    "a = 0\n",
    "d = 0\n",
    "w = 0\n",
    "\n",
    "for x in open(\"input.txt\", \"r\"):\n",
    "    if(\"forward\" in x):\n",
    "        w = w + int(x.split(' ')[1])\n",
    "        d = d + (a * int(x.split(' ')[1]))\n",
    "    elif(\"up\" in x):\n",
    "        a = a - int(x.split(' ')[1])\n",
    "    elif(\"down\" in x):\n",
    "        a = a + int(x.split(' ')[1])\n",
    "print(d*w)"
   ]
  }
 ],
 "metadata": {
  "interpreter": {
   "hash": "9efce205f64ad363cd9f14615485aca38ee4ef0915866e318aa83c8d0c93f6fc"
  },
  "kernelspec": {
   "display_name": "Python 3.10.0 64-bit",
   "language": "python",
   "name": "python3"
  },
  "language_info": {
   "codemirror_mode": {
    "name": "ipython",
    "version": 3
   },
   "file_extension": ".py",
   "mimetype": "text/x-python",
   "name": "python",
   "nbconvert_exporter": "python",
   "pygments_lexer": "ipython3",
   "version": "3.10.0"
  },
  "orig_nbformat": 4
 },
 "nbformat": 4,
 "nbformat_minor": 2
}
