{
 "cells": [
  {
   "cell_type": "code",
   "execution_count": null,
   "metadata": {},
   "outputs": [],
   "source": [
    "f = open(\"inputBingo.txt\", \"r\")\n",
    "\n",
    "s = f.readlines()\n",
    "bingolist = []\n",
    "bufferlist = []\n",
    "\n",
    "i = 0\n",
    "\n",
    "for x in s:\n",
    "    if( x == '\\n'):\n",
    "        s.remove(x);\n",
    "    \n",
    "for x in s:\n",
    "    if( i < 4):\n",
    "        bufferlist.append(x.strip().replace('  ', ' ').split(' '))\n",
    "        i = i + 1\n",
    "    else:\n",
    "        bufferlist.append(x.strip().split(' '))\n",
    "        bingolist.append(bufferlist)\n",
    "        bufferlist = []\n",
    "        i = 0"
   ]
  },
  {
   "cell_type": "code",
   "execution_count": null,
   "metadata": {},
   "outputs": [],
   "source": [
    "numbers = []\n",
    "with open(\"input.txt\", \"r\") as f1:\n",
    "    numbers = f1.read().splitlines()"
   ]
  },
  {
   "cell_type": "code",
   "execution_count": null,
   "metadata": {},
   "outputs": [],
   "source": [
    "def check(board):\n",
    "    # rowcheck\n",
    "    c_row = 0\n",
    "    for row in board:\n",
    "        for v in row:\n",
    "            if(int(v) == -1):\n",
    "                c_row = c_row + 1\n",
    "            else:\n",
    "                c_row = 0\n",
    "                break\n",
    "        if(c_row == 5):\n",
    "            return True\n",
    "\n",
    "    #linecheck\n",
    "    c_line = 0\n",
    "    for x in range(5):\n",
    "        for row in board:\n",
    "            if(int(row[x]) == -1):\n",
    "                c_line = c_line + 1\n",
    "            else:\n",
    "                c_line = 0\n",
    "                break\n",
    "        if(c_line == 5):\n",
    "            return True\n",
    "\n",
    "    return False"
   ]
  },
  {
   "cell_type": "code",
   "execution_count": null,
   "metadata": {},
   "outputs": [],
   "source": [
    "\n",
    "def goto():\n",
    "    for n in numbers:\n",
    "        for bnr, bingoboard in enumerate(bingolist):\n",
    "            for row in bingoboard:\n",
    "                for nr, val in enumerate(row):\n",
    "                    if val == n:\n",
    "                        row[nr] = -1\n",
    "            #print(bingoboard)\n",
    "            if(check(bingoboard)):\n",
    "                val = 0 \n",
    "                for x in bingoboard:\n",
    "                    for y in x:\n",
    "                        if ( int(y) > 0):\n",
    "                            val = val + int(y)\n",
    "                print(int(val)*int(n))\n",
    "                return True \n",
    "    return False\n",
    "\n",
    "goto()"
   ]
  }
 ],
 "metadata": {
  "interpreter": {
   "hash": "9efce205f64ad363cd9f14615485aca38ee4ef0915866e318aa83c8d0c93f6fc"
  },
  "kernelspec": {
   "display_name": "Python 3.10.0 64-bit",
   "language": "python",
   "name": "python3"
  },
  "language_info": {
   "codemirror_mode": {
    "name": "ipython",
    "version": 3
   },
   "file_extension": ".py",
   "mimetype": "text/x-python",
   "name": "python",
   "nbconvert_exporter": "python",
   "pygments_lexer": "ipython3",
   "version": "3.10.0"
  },
  "orig_nbformat": 4
 },
 "nbformat": 4,
 "nbformat_minor": 2
}
