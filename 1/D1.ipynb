{
 "cells": [
  {
   "cell_type": "code",
   "execution_count": null,
   "metadata": {},
   "outputs": [],
   "source": [
    "# P1 \n",
    "y = 0\n",
    "i = 0 \n",
    "\n",
    "for x in open(\"input.txt\", \"r\"):\n",
    "    if( int(x) > int(y) ):\n",
    "        i = i + 1; \n",
    "    y = x\n",
    "\n",
    "print(i-1)"
   ]
  },
  {
   "cell_type": "code",
   "execution_count": null,
   "metadata": {},
   "outputs": [],
   "source": [
    "# P2\n",
    "f = open(\"input.txt\", \"r\")\n",
    "list = f.readlines()\n",
    "\n",
    "i = 0\n",
    "for x in range(len(list)-3):\n",
    "    a = int(list[x]) + int(list[x+1]) + int(list[x+2])\n",
    "    b = int(list[x+1]) + int(list[x+2]) + int(list[x+3])\n",
    "    if( b > a ):\n",
    "        i = i + 1\n",
    "\n",
    "print(i)"
   ]
  }
 ],
 "metadata": {
  "interpreter": {
   "hash": "9efce205f64ad363cd9f14615485aca38ee4ef0915866e318aa83c8d0c93f6fc"
  },
  "kernelspec": {
   "display_name": "Python 3.10.0 64-bit",
   "language": "python",
   "name": "python3"
  },
  "language_info": {
   "codemirror_mode": {
    "name": "ipython",
    "version": 3
   },
   "file_extension": ".py",
   "mimetype": "text/x-python",
   "name": "python",
   "nbconvert_exporter": "python",
   "pygments_lexer": "ipython3",
   "version": "3.10.0"
  },
  "orig_nbformat": 4
 },
 "nbformat": 4,
 "nbformat_minor": 2
}
